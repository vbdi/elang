{
 "cells": [
  {
   "cell_type": "markdown",
   "id": "0fee7523",
   "metadata": {},
   "source": [
    "# E-LANG: Energy-Based Joint Inferencing of Super and Swift Language Models\n",
    "This notebook contains the demo and the implementation of the paper 'E-LANG: Energy-Based Joint Joint Inferencing of Super and Swift Language Models'."
   ]
  },
  {
   "cell_type": "markdown",
   "id": "73550c56",
   "metadata": {},
   "source": [
    "![](images/elang_framework.png)"
   ]
  },
  {
   "cell_type": "markdown",
   "source": [
    "## Demo Video for T5-Based E-LANG\n",
    "The following video demonstrates the performance of E-LANG with T5 backbone on a random subset of GLUE SST-2. T5-Large and T5-11B are respectively used as Swift and Super models in this demo."
   ],
   "metadata": {
    "collapsed": false
   }
  },
  {
   "cell_type": "code",
   "execution_count": null,
   "outputs": [],
   "source": [
    "%%HTML\n",
    "<video width=\"1280\" controls>\n",
    "    <source src=\"images/demo.mp4\" type=\"video/mp4\">\n",
    "</video>"
   ],
   "metadata": {
    "collapsed": false,
    "pycharm": {
     "name": "#%%\n"
    }
   }
  },
  {
   "cell_type": "markdown",
   "id": "47ab7153",
   "metadata": {},
   "source": [
    "## Pytorch Implementation of E-LANG with BERT backbone"
   ]
  },
  {
   "cell_type": "markdown",
   "source": [
    "#### Requirements\n",
    "In order to run the code, please install the required packages using the following command:"
   ],
   "metadata": {
    "collapsed": false
   }
  },
  {
   "cell_type": "code",
   "execution_count": null,
   "outputs": [],
   "source": [
    "!pip install -r requirements.txt"
   ],
   "metadata": {
    "collapsed": false,
    "pycharm": {
     "name": "#%%\n"
    }
   }
  },
  {
   "cell_type": "markdown",
   "id": "e8e9215f",
   "metadata": {},
   "source": [
    "#### Download Code"
   ]
  },
  {
   "cell_type": "code",
   "execution_count": null,
   "id": "725a1f25",
   "metadata": {},
   "outputs": [],
   "source": [
    "!wget https://modelarts-cnnorth1-market-dataset.obs.cn-north-1.myhuaweicloud.com/example-apps/elang/code.zip\n",
    "!unzip -qo code.zip"
   ]
  },
  {
   "cell_type": "markdown",
   "id": "1433dae4",
   "metadata": {},
   "source": [
    "#### E-LANG over GLUE SST-2 with TinyBERT (as Swift) and BERT-Base (as Super):"
   ]
  },
  {
   "cell_type": "code",
   "execution_count": null,
   "id": "b32805b9",
   "metadata": {},
   "outputs": [],
   "source": [
    "!python elang.py --do_eval --swift_model ./models/SST-2/TinyBERT_4L_312D/ --super_model ./models/SST-2/BERT_Base/ --router_threshold 1.31044 --task_name SST-2 --data_dir ./glue_data/SST-2/"
   ]
  },
  {
   "cell_type": "markdown",
   "id": "8205a15f",
   "metadata": {},
   "source": [
    "#### Arguments\n",
    "##### - 'do_eval': run the evaluation script\n",
    "##### - 'swift_model': the checkpoint path for the Swift model\n",
    "##### - 'super_model': the checkpoint path for the Super model\n",
    "##### - 'router_threshold': the router threshold\n",
    "##### - 'task_name': the GLUE task name (e.g., SST-2, QNLI, etc.)\n",
    "##### - 'data_dir': the path to the dataset"
   ]
  },
  {
   "cell_type": "markdown",
   "id": "446ec9d4",
   "metadata": {},
   "source": [
    "#### E-LANG results with BERT on GLUE devset compared with SOTA"
   ]
  },
  {
   "cell_type": "markdown",
   "source": [
    "![](images/table.png)"
   ],
   "metadata": {
    "collapsed": false
   }
  },
  {
   "cell_type": "markdown",
   "id": "817ec8e8",
   "metadata": {
    "pycharm": {
     "name": "#%% md\n"
    }
   },
   "source": [
    "#### Sample Trade-off curves compared with SOTA"
   ]
  },
  {
   "cell_type": "markdown",
   "source": [
    "![](images/curves.png)"
   ],
   "metadata": {
    "collapsed": false
   }
  }
 ],
 "metadata": {
  "imageInfo": {
   "id": "e1a07296-22a8-4f05-8bc8-e936c8e54099",
   "name": "pytorch1.4-cuda10.1-cudnn7-ubuntu18.04"
  },
  "kernelspec": {
   "display_name": "python-3.7.10",
   "language": "python",
   "name": "python-3.7.10"
  },
  "language_info": {
   "codemirror_mode": {
    "name": "ipython",
    "version": 3
   },
   "file_extension": ".py",
   "mimetype": "text/x-python",
   "name": "python",
   "nbconvert_exporter": "python",
   "pygments_lexer": "ipython3",
   "version": "3.7.10"
  },
  "shareInfo": {
   "id": "5c5afe29-09ea-4558-acf4-52f0570d5af9",
   "url": "https://authoring-modelarts-cnnorth4.huaweicloud.com/console/lab?share-url-b64=aHR0cHM6Ly9ub3RlYm9va3NoYXJlLm9icy5jbi1ub3J0aC00Lm15aHVhd2VpY2xvdWQuY29tLzBlNDhmNjEyNGFmZDQwNmU5ZmViZTJjZDMyOTY3NzM2L2VianIuaXB5bmI%3D"
  }
 },
 "nbformat": 4,
 "nbformat_minor": 5
}